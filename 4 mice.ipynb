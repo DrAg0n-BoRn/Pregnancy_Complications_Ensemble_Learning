{
 "cells": [
  {
   "cell_type": "markdown",
   "metadata": {},
   "source": [
    "# Step 4: Multiple Imputation by Chained Equations (MICE)"
   ]
  },
  {
   "cell_type": "code",
   "execution_count": 1,
   "metadata": {},
   "outputs": [],
   "source": [
    "import pandas as pd\n",
    "import miceforest as mf\n",
    "import os\n",
    "import matplotlib.pyplot as plt\n",
    "import numpy as np\n",
    "from typing import Union\n",
    "import json\n",
    "\n",
    "# Set font family to a font that supports CJK characters\n",
    "from matplotlib import rcParams\n",
    "rcParams['font.sans-serif'] = ['PingFang HK']\n",
    "rcParams['axes.unicode_minus'] = False  # Ensure minus sign renders correctly\n",
    "from plotnine import theme, element_text"
   ]
  },
  {
   "cell_type": "code",
   "execution_count": 2,
   "metadata": {},
   "outputs": [],
   "source": [
    "# Define paths to data\n",
    "df_path = os.path.join(\"outputs\", \"Processed_Data.csv\")\n",
    "translation_path = os.path.join(\"raw_data\", \"translation.json\")"
   ]
  },
  {
   "cell_type": "markdown",
   "metadata": {},
   "source": [
    "## 1. Load Data"
   ]
  },
  {
   "cell_type": "code",
   "execution_count": 3,
   "metadata": {},
   "outputs": [
    {
     "data": {
      "text/plain": [
       "(6724, 100)"
      ]
     },
     "execution_count": 3,
     "metadata": {},
     "output_type": "execute_result"
    }
   ],
   "source": [
    "#Load data\n",
    "df_full = pd.read_csv(df_path)\n",
    "df_full.shape"
   ]
  },
  {
   "cell_type": "code",
   "execution_count": 4,
   "metadata": {},
   "outputs": [
    {
     "name": "stdout",
     "output_type": "stream",
     "text": [
      "<class 'pandas.core.frame.DataFrame'>\n",
      "RangeIndex: 6724 entries, 0 to 6723\n",
      "Data columns (total 99 columns):\n",
      " #   Column              Non-Null Count  Dtype  \n",
      "---  ------              --------------  -----  \n",
      " 0   胎膜早破                6724 non-null   int64  \n",
      " 1   胎儿宫内窘迫              6724 non-null   int64  \n",
      " 2   巨大儿                 6724 non-null   int64  \n",
      " 3   羊水污染                6724 non-null   int64  \n",
      " 4   妊娠期糖尿病              6724 non-null   int64  \n",
      " 5   妊娠期高血压              6724 non-null   int64  \n",
      " 6   妊娠合并肝损害             6724 non-null   int64  \n",
      " 7   妊娠合并肝内胆汁淤积症         6724 non-null   int64  \n",
      " 8   孕妇产次                6724 non-null   int64  \n",
      " 9   足月产次数               6724 non-null   int64  \n",
      " 10  早产次数                6724 non-null   int64  \n",
      " 11  流产次数                6724 non-null   int64  \n",
      " 12  人流次数                6724 non-null   int64  \n",
      " 13  体重                  6724 non-null   float64\n",
      " 14  身高                  6724 non-null   float64\n",
      " 15  1小时葡萄糖              6724 non-null   float64\n",
      " 16  2小时葡萄糖              6724 non-null   float64\n",
      " 17  空腹葡萄糖               6724 non-null   float64\n",
      " 18  34-37.6周γ-谷氨酰转肽酶    6724 non-null   float64\n",
      " 19  1-10周促甲状腺素          6724 non-null   float64\n",
      " 20  10.1-20周促甲状腺素       6724 non-null   float64\n",
      " 21  21-40周促甲状腺素         6724 non-null   float64\n",
      " 22  1-25周叶酸             6724 non-null   float64\n",
      " 23  25.1-40周叶酸          6724 non-null   float64\n",
      " 24  34-37.6周总胆固醇        6724 non-null   float64\n",
      " 25  1-10周游离FT4          6724 non-null   float64\n",
      " 26  10.1-20周游离FT4       6724 non-null   float64\n",
      " 27  21-40周游离FT4         6724 non-null   float64\n",
      " 28  34-37.6周谷丙转氨酶       6724 non-null   float64\n",
      " 29  34-37.6周谷草转氨酶       6724 non-null   float64\n",
      " 30  38-40周谷草转氨酶         6724 non-null   float64\n",
      " 31  34-37.6周载脂蛋白A1      6724 non-null   float64\n",
      " 32  34-37.6周载脂蛋白B       6724 non-null   float64\n",
      " 33  25.1-32w_双顶径        6724 non-null   float64\n",
      " 34  32.1-38w_双顶径        6724 non-null   float64\n",
      " 35  18.1-25w_羊水深度       6724 non-null   float64\n",
      " 36  32.1-38w_羊水深度       6724 non-null   float64\n",
      " 37  18.1-25w_脐动脉S/D     6724 non-null   float64\n",
      " 38  32.1-38w_脐动脉S/D     6724 non-null   float64\n",
      " 39  38.1-40w_脐动脉S/D     6724 non-null   float64\n",
      " 40  25.1-32w_脐动脉RI      6724 non-null   float64\n",
      " 41  32.1-38w_脐动脉RI      6724 non-null   float64\n",
      " 42  38.1-40w_脐动脉RI      6724 non-null   float64\n",
      " 43  25.1-32w_脐动脉S/D     6724 non-null   float64\n",
      " 44  18.1-25w_脐动脉RI      6724 non-null   float64\n",
      " 45  1-11.6周糖化血红蛋白       6724 non-null   float64\n",
      " 46  25.1-33.6周γ-谷氨酰转肽酶  6724 non-null   float64\n",
      " 47  22.1-32周乳酸脱氢酶       6724 non-null   float64\n",
      " 48  25.1-33.6周谷丙转氨酶     6724 non-null   float64\n",
      " 49  25.1-33.6周谷草转氨酶     6724 non-null   float64\n",
      " 50  25.1-32w_羊水深度       6724 non-null   float64\n",
      " 51  18.1-25w_双顶径        6724 non-null   float64\n",
      " 52  1-22周乳酸脱氢酶          6724 non-null   float64\n",
      " 53  13-25周谷丙转氨酶         6724 non-null   float64\n",
      " 54  13-25周谷草转氨酶         6724 non-null   float64\n",
      " 55  38-40周谷丙转氨酶         6724 non-null   float64\n",
      " 56  32.1-40周乳酸脱氢酶       6724 non-null   float64\n",
      " 57  收缩压                 6591 non-null   float64\n",
      " 58  舒张压                 6591 non-null   float64\n",
      " 59  抗甲状腺过氧化物酶抗体         6724 non-null   int64  \n",
      " 60  10.1-14周尿葡萄糖        3914 non-null   float64\n",
      " 61  14.1-19.6周尿葡萄糖      6366 non-null   float64\n",
      " 62  20-25周尿葡萄糖          6500 non-null   float64\n",
      " 63  25.1-27.6周尿葡萄糖      5434 non-null   float64\n",
      " 64  28-31周尿葡萄糖          6527 non-null   float64\n",
      " 65  31.1-33周尿葡萄糖        6384 non-null   float64\n",
      " 66  33.1-35周尿葡萄糖        6393 non-null   float64\n",
      " 67  35.1-36.3周尿葡萄糖      4731 non-null   float64\n",
      " 68  36.4-37.3周尿葡萄糖      6192 non-null   float64\n",
      " 69  37.4-38.3周尿葡萄糖      6138 non-null   float64\n",
      " 70  38.4-39.3周尿葡萄糖      5538 non-null   float64\n",
      " 71  39.4-40周尿葡萄糖        3792 non-null   float64\n",
      " 72  10.1-14周尿蛋白         3914 non-null   float64\n",
      " 73  14.1-19.6周尿蛋白       6366 non-null   float64\n",
      " 74  20-25周尿蛋白           6498 non-null   float64\n",
      " 75  25.1-27.6周尿蛋白       5431 non-null   float64\n",
      " 76  28-31周尿蛋白           6527 non-null   float64\n",
      " 77  31.1-33周尿蛋白         6384 non-null   float64\n",
      " 78  33.1-35周尿蛋白         6393 non-null   float64\n",
      " 79  35.1-36.3周尿蛋白       4731 non-null   float64\n",
      " 80  36.4-37.3周尿蛋白       6192 non-null   float64\n",
      " 81  37.4-38.3周尿蛋白       6138 non-null   float64\n",
      " 82  38.4-39.3周尿蛋白       5539 non-null   float64\n",
      " 83  39.4-40周尿蛋白         3791 non-null   float64\n",
      " 84  1-10周甲状腺过氧化物酶抗体     6724 non-null   int64  \n",
      " 85  10.1-20周甲状腺过氧化物酶抗体  6724 non-null   int64  \n",
      " 86  21-40周甲状腺过氧化物酶抗体    6724 non-null   int64  \n",
      " 87  10.1-14周尿酮体         3914 non-null   float64\n",
      " 88  14.1-19.6周尿酮体       6366 non-null   float64\n",
      " 89  20-25周尿酮体           6498 non-null   float64\n",
      " 90  25.1-27.6周尿酮体       5431 non-null   float64\n",
      " 91  28-31周尿酮体           6527 non-null   float64\n",
      " 92  31.1-33周尿酮体         6384 non-null   float64\n",
      " 93  33.1-35周尿酮体         6393 non-null   float64\n",
      " 94  35.1-36.3周尿酮体       4731 non-null   float64\n",
      " 95  36.4-37.3周尿酮体       6191 non-null   float64\n",
      " 96  37.4-38.3周尿酮体       6138 non-null   float64\n",
      " 97  38.4-39.3周尿酮体       5539 non-null   float64\n",
      " 98  39.4-40周尿酮体         3792 non-null   float64\n",
      "dtypes: float64(82), int64(17)\n",
      "memory usage: 5.1 MB\n"
     ]
    }
   ],
   "source": [
    "#Drop ID column\n",
    "ID_col = \"匹配ID_日期\"\n",
    "df = df_full.drop(columns=[ID_col])\n",
    "df.info()"
   ]
  },
  {
   "cell_type": "markdown",
   "metadata": {},
   "source": [
    "## 2. English Translation"
   ]
  },
  {
   "cell_type": "code",
   "execution_count": 5,
   "metadata": {},
   "outputs": [
    {
     "name": "stdout",
     "output_type": "stream",
     "text": [
      "<class 'pandas.core.frame.DataFrame'>\n",
      "RangeIndex: 6724 entries, 0 to 6723\n",
      "Data columns (total 99 columns):\n",
      " #   Column                                      Non-Null Count  Dtype  \n",
      "---  ------                                      --------------  -----  \n",
      " 0   Premature Rupture of Membranes              6724 non-null   int64  \n",
      " 1   Fetal Distress                              6724 non-null   int64  \n",
      " 2   Macrosomia                                  6724 non-null   int64  \n",
      " 3   Amniotic Fluid Contamination                6724 non-null   int64  \n",
      " 4   Gestational Diabetes Mellitus               6724 non-null   int64  \n",
      " 5   Gestational Hypertension                    6724 non-null   int64  \n",
      " 6   Pregnancy Complicated by Hepatic Injury     6724 non-null   int64  \n",
      " 7   Intrahepatic Cholestasis of Pregnancy       6724 non-null   int64  \n",
      " 8   Pregnant woman's parity                     6724 non-null   int64  \n",
      " 9   Number of full-term births                  6724 non-null   int64  \n",
      " 10  Number of premature births                  6724 non-null   int64  \n",
      " 11  Number of miscarriages                      6724 non-null   int64  \n",
      " 12  Number of abortions                         6724 non-null   int64  \n",
      " 13  weight                                      6724 non-null   float64\n",
      " 14  height                                      6724 non-null   float64\n",
      " 15  1 hour glucose                              6724 non-null   float64\n",
      " 16  2hour glucose                               6724 non-null   float64\n",
      " 17  Fasting glucose                             6724 non-null   float64\n",
      " 18  γ-glutamyl transpeptidase(34-37.6 weeks)    6724 non-null   float64\n",
      " 19  TSH (1-10 weeks)                            6724 non-null   float64\n",
      " 20  TSH (10.1-20 weeks)                         6724 non-null   float64\n",
      " 21  TSH (21-40 weeks)                           6724 non-null   float64\n",
      " 22  folic acid(1-25 weeks)                      6724 non-null   float64\n",
      " 23  folic acid(25.1-40 weeks)                   6724 non-null   float64\n",
      " 24  Total cholesterol (34-37.6w)                6724 non-null   float64\n",
      " 25  Free FT4 (1-10w)                            6724 non-null   float64\n",
      " 26  Free FT4 (10.1-20w)                         6724 non-null   float64\n",
      " 27  Free FT4 (21-40w)                           6724 non-null   float64\n",
      " 28  ALT (34-37.6w)                              6724 non-null   float64\n",
      " 29  AST (34-37.6w)                              6724 non-null   float64\n",
      " 30  AST (38-40w)                                6724 non-null   float64\n",
      " 31  Apolipoprotein A1 (34-37.6w)                6724 non-null   float64\n",
      " 32  Apolipoprotein B (34-37.6w)                 6724 non-null   float64\n",
      " 33  Biparietal diameter (25.1-32w)              6724 non-null   float64\n",
      " 34  Biparietal diameter (32.1-38w)              6724 non-null   float64\n",
      " 35  Amniotic fluid depth（18.1-25 w）             6724 non-null   float64\n",
      " 36  Amniotic fluid depth（32.1-38 w）             6724 non-null   float64\n",
      " 37  Umbilical artery S/D（18.1-25 w）             6724 non-null   float64\n",
      " 38  Umbilical artery S/D（32.1-38 w）             6724 non-null   float64\n",
      " 39  Umbilical artery S/D（38.1-40 w）             6724 non-null   float64\n",
      " 40  Umbilical artery RI（25.1-32 w）              6724 non-null   float64\n",
      " 41  Umbilical artery RI（32.1-38 w）              6724 non-null   float64\n",
      " 42  Umbilical artery RI（38.1-40 w）              6724 non-null   float64\n",
      " 43  Umbilical artery S/D（25.1-32 w）             6724 non-null   float64\n",
      " 44  Umbilical artery RI（18.1-25 w）              6724 non-null   float64\n",
      " 45  Glycosylated hemoglobin (1-11.6w)           6724 non-null   float64\n",
      " 46  γ-glutamyl transpeptidase(25.1-33.6 weeks)  6724 non-null   float64\n",
      " 47  Lactate dehydrogenase(22.1-32 weeks)        6724 non-null   float64\n",
      " 48  ALT (25.1-33.6w)                            6724 non-null   float64\n",
      " 49  AST (25.1-33.6w)                            6724 non-null   float64\n",
      " 50  Amniotic fluid depth（25.1-32 w）             6724 non-null   float64\n",
      " 51  Biparietal diameter (18.1-25w)              6724 non-null   float64\n",
      " 52  Lactate dehydrogenase(1-22 weeks)           6724 non-null   float64\n",
      " 53  ALT (13-25w)                                6724 non-null   float64\n",
      " 54  AST (13-25w)                                6724 non-null   float64\n",
      " 55  ALT (38-40w)                                6724 non-null   float64\n",
      " 56  Lactate dehydrogenase(32.1-40 weeks)        6724 non-null   float64\n",
      " 57  Systolic Blood Pressure                     6591 non-null   float64\n",
      " 58  Diastolic Blood Pressure                    6591 non-null   float64\n",
      " 59  Anti-thyroid peroxidase antibodies          6724 non-null   int64  \n",
      " 60  Urine glucose (10.1-14w)                    3914 non-null   float64\n",
      " 61  Urine glucose (14.1-19.6w)                  6366 non-null   float64\n",
      " 62  Urine glucose (20-25w)                      6500 non-null   float64\n",
      " 63  Urine glucose (25.1-27.6w)                  5434 non-null   float64\n",
      " 64  Urine glucose (28-31w)                      6527 non-null   float64\n",
      " 65  Urine glucose (31.1-33w)                    6384 non-null   float64\n",
      " 66  Urine glucose (33.1-35w)                    6393 non-null   float64\n",
      " 67  Urine glucose (35.1-36.3w)                  4731 non-null   float64\n",
      " 68  Urine glucose (36.4-37.3w)                  6192 non-null   float64\n",
      " 69  Urine glucose (37.4-38.3w)                  6138 non-null   float64\n",
      " 70  Urine glucose (38.4-39.3w)                  5538 non-null   float64\n",
      " 71  Urine glucose (39.4-40w)                    3792 non-null   float64\n",
      " 72  Urine protein (10.1-14w)                    3914 non-null   float64\n",
      " 73  Urine protein (14.1-19.6w)                  6366 non-null   float64\n",
      " 74  Urine protein (20-25w)                      6498 non-null   float64\n",
      " 75  Urine protein (25.1-27.6w)                  5431 non-null   float64\n",
      " 76  Urine protein (28-31w)                      6527 non-null   float64\n",
      " 77  Urine protein (31.1-33w)                    6384 non-null   float64\n",
      " 78  Urine protein (33.1-35w)                    6393 non-null   float64\n",
      " 79  Urine protein (35.1-36.3w)                  4731 non-null   float64\n",
      " 80  Urine protein (36.4-37.3w)                  6192 non-null   float64\n",
      " 81  Urine protein (37.4-38.3w)                  6138 non-null   float64\n",
      " 82  Urine protein (38.4-39.3w)                  5539 non-null   float64\n",
      " 83  Urine protein (39.4-40w)                    3791 non-null   float64\n",
      " 84  Thyroid peroxidase antibodies (1-10w)       6724 non-null   int64  \n",
      " 85  Thyroid peroxidase antibodies (10.1-20w)    6724 non-null   int64  \n",
      " 86  Thyroid peroxidase antibodies (21-40w)      6724 non-null   int64  \n",
      " 87  Urine ketone bodies (10.1-14w)              3914 non-null   float64\n",
      " 88  Urine ketone bodies (14.1-19.6w)            6366 non-null   float64\n",
      " 89  Urine ketone bodies (20-25w)                6498 non-null   float64\n",
      " 90  Urine ketone bodies (25.1-27.6w)            5431 non-null   float64\n",
      " 91  Urine ketone bodies (28-31w)                6527 non-null   float64\n",
      " 92  Urine ketone bodies (31.1-33w)              6384 non-null   float64\n",
      " 93  Urine ketone bodies (33.1-35w)              6393 non-null   float64\n",
      " 94  Urine ketone bodies (35.1-36.3w)            4731 non-null   float64\n",
      " 95  Urine ketone bodies (36.4-37.3w)            6191 non-null   float64\n",
      " 96  Urine ketone bodies (37.4-38.3w)            6138 non-null   float64\n",
      " 97  Urine ketone bodies (38.4-39.3w)            5539 non-null   float64\n",
      " 98  Urine ketone bodies (39.4-40w)              3792 non-null   float64\n",
      "dtypes: float64(82), int64(17)\n",
      "memory usage: 5.1 MB\n"
     ]
    }
   ],
   "source": [
    "#load the translation mapping json\n",
    "with open(translation_path, 'r', encoding='utf-8') as f:\n",
    "    column_mapping = json.load(f)\n",
    "\n",
    "#check missing translations\n",
    "unmapped = [col for col in df.columns if col not in column_mapping]\n",
    "if unmapped:\n",
    "    print(\"Missing translations detected:\")\n",
    "    for missing_col in unmapped:\n",
    "        print(f\"\\t{missing_col}\")\n",
    "    raise ValueError(f\"{len(unmapped)} columns are not mapped in the translation file.\")\n",
    "\n",
    "# Rename columns using the translation mapping\n",
    "df_translated = df.rename(columns=column_mapping)\n",
    "df_translated.info()"
   ]
  },
  {
   "cell_type": "markdown",
   "metadata": {},
   "source": [
    "## 3. Apply MICE Imputation"
   ]
  },
  {
   "cell_type": "code",
   "execution_count": 6,
   "metadata": {},
   "outputs": [
    {
     "name": "stdout",
     "output_type": "stream",
     "text": [
      "All imputed datasets match the original DataFrame indexes.\n"
     ]
    }
   ],
   "source": [
    "IMPUTED_DATASETS = 3\n",
    "ITERATIONS = 20\n",
    "\n",
    "# Initialize the imputation kernel\n",
    "kernel = mf.ImputationKernel(\n",
    "    data=df_translated,\n",
    "    num_datasets=IMPUTED_DATASETS,  # Number of imputed datasets\n",
    "    random_state=42\n",
    ")\n",
    "\n",
    "# Perform MICE with N iterations per dataset\n",
    "kernel.mice(ITERATIONS)\n",
    "\n",
    "# Retrieve the imputed datasets \n",
    "imputed_datasets = [kernel.complete_data(dataset=i) for i in range(IMPUTED_DATASETS)]\n",
    "\n",
    "# Ensure indexes match\n",
    "for i, imputed_df in enumerate(imputed_datasets, start=1):\n",
    "    assert imputed_df.shape[0] == df_translated.shape[0], f\"Row count mismatch in dataset {i}\"\n",
    "    assert all(imputed_df.index == df_translated.index), f\"Index mismatch in dataset {i}\"\n",
    "print(\"All imputed datasets match the original DataFrame indexes.\")\n"
   ]
  },
  {
   "cell_type": "markdown",
   "metadata": {},
   "source": [
    "## 4. Get metrics"
   ]
  },
  {
   "cell_type": "code",
   "execution_count": 7,
   "metadata": {},
   "outputs": [],
   "source": [
    "METRICS_BASE_DIR = os.path.join(os.getcwd(), \"MICE\", \"imputation_metrics\")\n",
    "if not os.path.isdir(METRICS_BASE_DIR):\n",
    "    os.makedirs(METRICS_BASE_DIR)\n",
    "\n",
    "#Get feature names that had missing values before imputation\n",
    "def get_na_feature_names(df: pd.DataFrame):\n",
    "    return [col for col in df.columns if df[col].isna().any()]\n",
    "\n",
    "#Convergence diagnostic\n",
    "def get_convergence_diagnostic(kernel: mf.ImputationKernel, feature_names: list[str], iterations_cap: int=ITERATIONS):\n",
    "    for dataset_id in range(kernel.num_datasets):\n",
    "        #Check directory for current dataset\n",
    "        dataset_file_dir = f\"Convergence Imputed_{dataset_id + 1}\"\n",
    "        save_dir = os.path.join(METRICS_BASE_DIR, dataset_file_dir)\n",
    "        if not os.path.isdir(save_dir):\n",
    "            os.makedirs(save_dir)\n",
    "        \n",
    "        for feature_name in feature_names:\n",
    "            means_per_iteration = []\n",
    "            for iteration in range(iterations_cap):\n",
    "                current_imputed = kernel.complete_data(dataset=dataset_id, iteration=iteration)\n",
    "                means_per_iteration.append(np.mean(current_imputed[feature_name]))\n",
    "\n",
    "            plt.plot(means_per_iteration, marker='o')\n",
    "            plt.xlabel(\"Iteration\")\n",
    "            plt.ylabel(\"Mean of Imputed Values\")\n",
    "            plt.title(f\"Mean Convergence for '{feature_name}'\")\n",
    "            \n",
    "            # Adjust plot display for the X axis\n",
    "            _ticks = np.arange(iterations_cap)\n",
    "            _labels = np.arange(1, iterations_cap + 1)\n",
    "            plt.xticks(ticks=_ticks, labels=_labels)\n",
    "            \n",
    "            save_path = os.path.join(save_dir, feature_name + \".png\")\n",
    "            plt.savefig(save_path, bbox_inches='tight')\n",
    "            plt.close()\n",
    "            \n",
    "        print(f\"{dataset_file_dir} completed.\")\n",
    "\n",
    "# Imputed distributions\n",
    "def get_imputed_distributions(kernel: mf.ImputationKernel, feature_names: Union[list[str], None]=None):\n",
    "    ''' \n",
    "    Save the imputed value distributions as a PNG. \n",
    "    It works using miceforest's authors implementation of the method `.plot_imputed_distributions()`.\n",
    "    \n",
    "    * Red lines are the distribution of original data.\n",
    "    * Black lines are the distribution of the imputed values.\n",
    "    ''' \n",
    "    save_path = os.path.join(METRICS_BASE_DIR, \"Imputed Distributions.png\")\n",
    "    \n",
    "    print(\"Imputed Distribution Legend:\\n\\tRed lines are the distribution of original data.\\n\\tBlack lines are the distribution of the imputed values.\")\n",
    "    \n",
    "    fig = kernel.plot_imputed_distributions(variables=feature_names)\n",
    "    \n",
    "    # Update the theme to use a font that supports CJK characters\n",
    "    fig = fig + theme(text=element_text(family=\"PingFang HK\"))\n",
    "    \n",
    "    fig.save(save_path, width=25, height=18, dpi=250, verbose=False)"
   ]
  },
  {
   "cell_type": "code",
   "execution_count": 8,
   "metadata": {},
   "outputs": [
    {
     "name": "stdout",
     "output_type": "stream",
     "text": [
      "Convergence Imputed_1 completed.\n",
      "Convergence Imputed_2 completed.\n",
      "Convergence Imputed_3 completed.\n",
      "Imputed Distribution Legend:\n",
      "\tRed lines are the distribution of original data.\n",
      "\tBlack lines are the distribution of the imputed values.\n"
     ]
    }
   ],
   "source": [
    "# Save metrics\n",
    "na_feature_names = get_na_feature_names(df_translated)\n",
    "get_convergence_diagnostic(kernel=kernel, feature_names=na_feature_names)\n",
    "get_imputed_distributions(kernel=kernel, feature_names=na_feature_names)"
   ]
  },
  {
   "cell_type": "markdown",
   "metadata": {},
   "source": [
    "## 5. Save Imputed Datasets"
   ]
  },
  {
   "cell_type": "code",
   "execution_count": 9,
   "metadata": {},
   "outputs": [
    {
     "name": "stdout",
     "output_type": "stream",
     "text": [
      "Saved imputed_01.csv with shape (6724, 99)\n",
      "Saved imputed_02.csv with shape (6724, 99)\n",
      "Saved imputed_03.csv with shape (6724, 99)\n"
     ]
    }
   ],
   "source": [
    "#Output path\n",
    "DATASETS_OUTPUT_DIR = os.path.join(os.getcwd(), \"MICE\", \"Imputed_Datasets\")\n",
    "if not os.path.isdir(DATASETS_OUTPUT_DIR):\n",
    "    os.makedirs(DATASETS_OUTPUT_DIR)\n",
    "\n",
    "# Save each imputed dataset with a unique name\n",
    "for i, imputed_df in enumerate(imputed_datasets, start=1):\n",
    "    if i < 10:\n",
    "        file_name = f\"imputed_0{i}.csv\"\n",
    "    else:\n",
    "        file_name = f\"imputed_{i}.csv\"\n",
    "    output_path = os.path.join(DATASETS_OUTPUT_DIR, file_name)\n",
    "    imputed_df.to_csv(output_path, index=False)\n",
    "    print(f\"Saved {file_name} with shape {imputed_df.shape}\")"
   ]
  }
 ],
 "metadata": {
  "kernelspec": {
   "display_name": "thyroid",
   "language": "python",
   "name": "python3"
  },
  "language_info": {
   "codemirror_mode": {
    "name": "ipython",
    "version": 3
   },
   "file_extension": ".py",
   "mimetype": "text/x-python",
   "name": "python",
   "nbconvert_exporter": "python",
   "pygments_lexer": "ipython3",
   "version": "3.12.10"
  }
 },
 "nbformat": 4,
 "nbformat_minor": 2
}
