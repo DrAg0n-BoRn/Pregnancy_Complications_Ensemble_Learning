{
 "cells": [
  {
   "cell_type": "markdown",
   "metadata": {},
   "source": [
    "# Step 1: Data Selection "
   ]
  },
  {
   "cell_type": "markdown",
   "metadata": {},
   "source": [
    "## 1. Read data file and choose the IDs with the main disease for the current project"
   ]
  },
  {
   "cell_type": "code",
   "execution_count": null,
   "metadata": {},
   "outputs": [],
   "source": [
    "import os"
   ]
  },
  {
   "cell_type": "code",
   "execution_count": null,
   "metadata": {},
   "outputs": [],
   "source": [
    "input_path: str = os.path.join(os.getcwd(), \"raw_data\", \"raw_disease_data.csv\")\n",
    "output_dir: str = os.path.join(os.getcwd(), \"outputs\")\n",
    "if not os.path.isdir(output_dir):\n",
    "    os.makedirs(output_dir)\n",
    "output_path: str = os.path.join(output_dir, \"processed_disease_data.csv\")\n",
    "\n",
    "keywords: list[str] = [\"妊娠合并甲状腺功能减退\"] # Target disease of the study\n",
    "ID_col = \"匹配ID_日期\""
   ]
  },
  {
   "cell_type": "markdown",
   "metadata": {},
   "source": [
    "### Data Structure:\n",
    "\n",
    "#### Medical Outcomes:\n",
    "\n",
    "1. Other Outcome (implied if all others are negative)\n",
    "2. 胎膜早破\n",
    "3. 胎儿宫内窘迫\n",
    "4. 巨大儿\n",
    "5. 子痫前期\n",
    "6. 分娩时I度会阴裂伤\n",
    "7. 分娩时II度会阴裂伤\n",
    "8. 羊水污染I度\n",
    "9. 羊水污染II度\n",
    "10. 羊水污染III度\n",
    "\n",
    "#### Medical Conditions:\n",
    "\n",
    "1. Other Condition (implied if all others are negative)\n",
    "2. 妊娠期糖尿病\n",
    "3. 妊娠期高血压\n",
    "4. 妊娠合并肝损害\n",
    "5. 妊娠合并肝内胆汁淤积症\n",
    "\n",
    "<br>\n",
    "<table>\n",
    "    <tbody>\n",
    "        <tr>\n",
    "            <td>匹配ID</td>\n",
    "            <td>胎膜早破</td>\n",
    "            <td>胎儿宫内窘迫</td>\n",
    "            <td>巨大儿</td>\n",
    "            <td>子痫前期</td>\n",
    "            <td>分娩时会阴裂伤</td>\n",
    "            <td>羊水污染</td>\n",
    "            <td>妊娠期糖尿病</td>\n",
    "            <td>妊娠期高血压</td>\n",
    "            <td>妊娠合并肝损害</td>\n",
    "            <td>妊娠合并肝内胆汁淤积症</td>\n",
    "        </tr>\n",
    "        <tr>\n",
    "            <td>(ID)</td>\n",
    "            <td>0 or 1</td>\n",
    "            <td>0 or 1</td>\n",
    "            <td>0 or 1</td>\n",
    "            <td>0 or 1</td>\n",
    "            <td>0 or 1</td>\n",
    "            <td>0 or 1</td>\n",
    "            <td>0 or 1</td>\n",
    "            <td>0 or 1</td>\n",
    "            <td>0 or 1</td>\n",
    "            <td>0 or 1</td>\n",
    "        </tr>\n",
    "    </tbody>\n",
    "</table>\n",
    "<br>"
   ]
  },
  {
   "cell_type": "code",
   "execution_count": null,
   "metadata": {},
   "outputs": [],
   "source": [
    "condition1 = \"妊娠期糖尿病\"\n",
    "condition2 = \"妊娠期高血压\"\n",
    "condition3 = \"妊娠合并肝损害\"\n",
    "condition4 = \"妊娠合并肝内胆汁淤积症\"\n",
    "\n",
    "outcome1 = \"胎膜早破\"\n",
    "outcome2 = \"胎儿宫内窘迫\"\n",
    "outcome3 = \"巨大儿\"\n",
    "outcome4 = \"子痫前期\"\n",
    "\n",
    "outcome5 = \"分娩时会阴裂伤\"\n",
    "outcome5_1 = \"分娩时I度会阴裂伤\"\n",
    "outcome5_2 = \"分娩时II度会阴裂伤\"\n",
    "\n",
    "outcome6 = \"羊水污染\"\n",
    "outcome6_1 = \"羊水污染I度\"\n",
    "outcome6_2 = \"羊水污染II度\"\n",
    "outcome6_3 = \"羊水污染III度\""
   ]
  },
  {
   "cell_type": "code",
   "execution_count": null,
   "metadata": {},
   "outputs": [],
   "source": [
    "headers = [ID_col, \n",
    "           outcome1, outcome2, outcome3, outcome4, outcome5, outcome6,\n",
    "           condition1, condition2, condition3, condition4]"
   ]
  },
  {
   "cell_type": "code",
   "execution_count": null,
   "metadata": {},
   "outputs": [],
   "source": [
    "# Write headers to the output file\n",
    "with open(output_path, \"w\", encoding=\"utf-8\") as f:\n",
    "    f.write(\",\".join(headers) + \"\\n\")\n",
    "\n",
    "# Populate the output file with binary data\n",
    "with open(input_path) as file:\n",
    "    for line in file:\n",
    "        # Initialize values\n",
    "        values: str = \"\"\n",
    "                \n",
    "        line = line.strip()\n",
    "        segments = line.split(\",\")\n",
    "        \n",
    "        # Check keyword(s) in each segment\n",
    "        for keyword in keywords:\n",
    "            if keyword in segments:\n",
    "                # Save the ID of the line\n",
    "                values += segments[0].strip() + \",\"\n",
    "                \n",
    "                # Check outcomes\n",
    "                if outcome1 in segments:\n",
    "                    values += \"1,\"\n",
    "                else:\n",
    "                    values += \"0,\"\n",
    "                if outcome2 in segments:\n",
    "                    values += \"1,\"\n",
    "                else:\n",
    "                    values += \"0,\"\n",
    "                if outcome3 in segments:\n",
    "                    values += \"1,\"\n",
    "                else:\n",
    "                    values += \"0,\"\n",
    "                if outcome4 in segments:\n",
    "                    values += \"1,\"\n",
    "                else:\n",
    "                    values += \"0,\"\n",
    "                    \n",
    "                # Multi-degree outcomes\n",
    "                if outcome5_2 in segments:\n",
    "                    values += \"1,\"\n",
    "                elif outcome5_1 in segments:\n",
    "                    values += \"1,\"\n",
    "                else:\n",
    "                    values += \"0,\"\n",
    "                if outcome6_3 in segments:\n",
    "                    values += \"1,\"\n",
    "                elif outcome6_2 in segments:\n",
    "                    values += \"1,\"\n",
    "                elif outcome6_1 in segments:\n",
    "                    values += \"1,\"\n",
    "                else:\n",
    "                    values += \"0,\"\n",
    "                \n",
    "                # Check conditions\n",
    "                if condition1 in segments:\n",
    "                    values += \"1,\"\n",
    "                else:\n",
    "                    values += \"0,\"\n",
    "                if condition2 in segments:\n",
    "                    values += \"1,\"\n",
    "                else:\n",
    "                    values += \"0,\"\n",
    "                if condition3 in segments:\n",
    "                    values += \"1,\"\n",
    "                else:\n",
    "                    values += \"0,\"\n",
    "                if condition4 in segments:\n",
    "                    values += \"1\"\n",
    "                else:\n",
    "                    values += \"0\"\n",
    "                    \n",
    "                # Append the values to the output file\n",
    "                with open(output_path, \"a\", encoding=\"utf-8\") as f:\n",
    "                    f.write(values + \"\\n\")"
   ]
  },
  {
   "cell_type": "markdown",
   "metadata": {},
   "source": [
    "## 2. Extract data from the main data source"
   ]
  },
  {
   "cell_type": "code",
   "execution_count": null,
   "metadata": {},
   "outputs": [],
   "source": [
    "import polars as pl"
   ]
  },
  {
   "cell_type": "code",
   "execution_count": null,
   "metadata": {},
   "outputs": [],
   "source": [
    "base_csv_path = output_path\n",
    "fulldata_path = os.path.join(os.getcwd(), \"raw_data\", \"raw_data.csv\")\n",
    "clean_data_path = os.path.join(os.getcwd(), \"outputs\", \"clean_data.csv\")\n",
    "columns_path = os.path.join(os.getcwd(), \"raw_data\", \"columns_revised.csv\")"
   ]
  },
  {
   "cell_type": "code",
   "execution_count": null,
   "metadata": {},
   "outputs": [],
   "source": [
    "# Get column names to use\n",
    "with open(columns_path, \"r\", encoding=\"utf-8-sig\") as f:\n",
    "    columns = f.readline().strip().split(\",\")\n",
    "print(columns)"
   ]
  },
  {
   "cell_type": "code",
   "execution_count": null,
   "metadata": {},
   "outputs": [],
   "source": [
    "# Read files to concatenate (read all data as strings)\n",
    "df_base = pl.read_csv(base_csv_path, infer_schema=False)\n",
    "df_raw = pl.read_csv(fulldata_path, columns=columns, infer_schema=False)"
   ]
  },
  {
   "cell_type": "markdown",
   "metadata": {},
   "source": [
    "## 3. Drop Targets with no positive cases"
   ]
  },
  {
   "cell_type": "code",
   "execution_count": null,
   "metadata": {},
   "outputs": [],
   "source": [
    "target_columns = [outcome1, outcome2, outcome3, outcome4, outcome5, outcome6]\n",
    "condition_columns = [condition1, condition2, condition3, condition4]\n",
    "\n",
    "_df_targets = df_base.select([pl.col(col).cast(pl.Int32) for col in target_columns])\n",
    "df_targets_clean = _df_targets.select([col for col in _df_targets.columns if _df_targets[col].sum() > 0])\n",
    "\n",
    "print(_df_targets.shape)\n",
    "print(_df_targets.columns)\n",
    "print(df_targets_clean.shape)\n",
    "print(df_targets_clean.columns)"
   ]
  },
  {
   "cell_type": "code",
   "execution_count": null,
   "metadata": {},
   "outputs": [],
   "source": [
    "df_base_v2 = df_base.select([ID_col] + df_targets_clean.columns + condition_columns)\n",
    "print(df_base.shape, df_base_v2.shape)"
   ]
  },
  {
   "cell_type": "markdown",
   "metadata": {},
   "source": [
    "## 4. Merge Dataframe "
   ]
  },
  {
   "cell_type": "code",
   "execution_count": null,
   "metadata": {},
   "outputs": [],
   "source": [
    "# Perform a left join\n",
    "df_final = df_base_v2.join(df_raw, on=ID_col, how=\"left\")"
   ]
  },
  {
   "cell_type": "code",
   "execution_count": null,
   "metadata": {},
   "outputs": [],
   "source": [
    "# Save final data\n",
    "df_final.write_csv(clean_data_path)"
   ]
  }
 ],
 "metadata": {
  "kernelspec": {
   "display_name": "thyroid",
   "language": "python",
   "name": "python3"
  },
  "language_info": {
   "codemirror_mode": {
    "name": "ipython",
    "version": 3
   },
   "file_extension": ".py",
   "mimetype": "text/x-python",
   "name": "python",
   "nbconvert_exporter": "python",
   "pygments_lexer": "ipython3",
   "version": "3.12.10"
  }
 },
 "nbformat": 4,
 "nbformat_minor": 2
}
